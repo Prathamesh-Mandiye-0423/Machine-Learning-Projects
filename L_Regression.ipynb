{
 "cells": [
  {
   "cell_type": "markdown",
   "id": "5b246ff7",
   "metadata": {},
   "source": [
    "This is my first project\n",
    "\n",
    "The Dataset I will be using:\n",
    "https://archive.ics.uci.edu/dataset/320/student+performance\n",
    "\n",
    "Target:Predict a Student's Performance based on the dataset\n"
   ]
  },
  {
   "cell_type": "code",
   "execution_count": 1,
   "id": "df6352bf",
   "metadata": {
    "ExecuteTime": {
     "end_time": "2023-10-01T17:47:54.529277Z",
     "start_time": "2023-10-01T17:47:53.321606Z"
    }
   },
   "outputs": [],
   "source": [
    "#Libraries:\n",
    "import numpy as np\n",
    "import pandas as pd\n",
    "from sklearn.model_selection import train_test_split\n",
    "from sklearn.linear_model import LinearRegression\n",
    "from sklearn.metrics import mean_squared_error as mse,r2_score \n",
    "import matplotlib.pyplot as plt\n",
    "import seaborn as sns\n",
    "RANDOM_STATE=55"
   ]
  },
  {
   "cell_type": "code",
   "execution_count": 2,
   "id": "11be2836",
   "metadata": {
    "ExecuteTime": {
     "end_time": "2023-10-01T17:47:54.551335Z",
     "start_time": "2023-10-01T17:47:54.529940Z"
    }
   },
   "outputs": [],
   "source": [
    "data=pd.read_csv(r\"D:\\ML(imp)\\NOtes and projecTS\\student\\student-mat.csv\",delimiter=';')\n",
    "#d2=pd.read_csv(r\"D:\\ML(imp)\\NOtes and projecTS\\student\\student-por.csv\")\n"
   ]
  },
  {
   "cell_type": "code",
   "execution_count": 3,
   "id": "4898e7bb",
   "metadata": {
    "ExecuteTime": {
     "end_time": "2023-10-01T17:47:54.566967Z",
     "start_time": "2023-10-01T17:47:54.552453Z"
    }
   },
   "outputs": [
    {
     "name": "stdout",
     "output_type": "stream",
     "text": [
      "Index(['school', 'sex', 'age', 'address', 'famsize', 'Pstatus', 'Medu', 'Fedu',\n",
      "       'Mjob', 'Fjob', 'reason', 'guardian', 'traveltime', 'studytime',\n",
      "       'failures', 'schoolsup', 'famsup', 'paid', 'activities', 'nursery',\n",
      "       'higher', 'internet', 'romantic', 'famrel', 'freetime', 'goout', 'Dalc',\n",
      "       'Walc', 'health', 'absences', 'G1', 'G2', 'G3'],\n",
      "      dtype='object')\n"
     ]
    }
   ],
   "source": [
    "print(data.columns)"
   ]
  },
  {
   "cell_type": "code",
   "execution_count": 4,
   "id": "7d1af209",
   "metadata": {
    "ExecuteTime": {
     "end_time": "2023-10-01T17:47:54.591833Z",
     "start_time": "2023-10-01T17:47:54.569955Z"
    }
   },
   "outputs": [
    {
     "data": {
      "text/html": [
       "<div>\n",
       "<style scoped>\n",
       "    .dataframe tbody tr th:only-of-type {\n",
       "        vertical-align: middle;\n",
       "    }\n",
       "\n",
       "    .dataframe tbody tr th {\n",
       "        vertical-align: top;\n",
       "    }\n",
       "\n",
       "    .dataframe thead th {\n",
       "        text-align: right;\n",
       "    }\n",
       "</style>\n",
       "<table border=\"1\" class=\"dataframe\">\n",
       "  <thead>\n",
       "    <tr style=\"text-align: right;\">\n",
       "      <th></th>\n",
       "      <th>school</th>\n",
       "      <th>sex</th>\n",
       "      <th>age</th>\n",
       "      <th>address</th>\n",
       "      <th>famsize</th>\n",
       "      <th>Pstatus</th>\n",
       "      <th>Medu</th>\n",
       "      <th>Fedu</th>\n",
       "      <th>Mjob</th>\n",
       "      <th>Fjob</th>\n",
       "      <th>...</th>\n",
       "      <th>famrel</th>\n",
       "      <th>freetime</th>\n",
       "      <th>goout</th>\n",
       "      <th>Dalc</th>\n",
       "      <th>Walc</th>\n",
       "      <th>health</th>\n",
       "      <th>absences</th>\n",
       "      <th>G1</th>\n",
       "      <th>G2</th>\n",
       "      <th>G3</th>\n",
       "    </tr>\n",
       "  </thead>\n",
       "  <tbody>\n",
       "    <tr>\n",
       "      <th>0</th>\n",
       "      <td>GP</td>\n",
       "      <td>F</td>\n",
       "      <td>18</td>\n",
       "      <td>U</td>\n",
       "      <td>GT3</td>\n",
       "      <td>A</td>\n",
       "      <td>4</td>\n",
       "      <td>4</td>\n",
       "      <td>at_home</td>\n",
       "      <td>teacher</td>\n",
       "      <td>...</td>\n",
       "      <td>4</td>\n",
       "      <td>3</td>\n",
       "      <td>4</td>\n",
       "      <td>1</td>\n",
       "      <td>1</td>\n",
       "      <td>3</td>\n",
       "      <td>6</td>\n",
       "      <td>5</td>\n",
       "      <td>6</td>\n",
       "      <td>6</td>\n",
       "    </tr>\n",
       "    <tr>\n",
       "      <th>1</th>\n",
       "      <td>GP</td>\n",
       "      <td>F</td>\n",
       "      <td>17</td>\n",
       "      <td>U</td>\n",
       "      <td>GT3</td>\n",
       "      <td>T</td>\n",
       "      <td>1</td>\n",
       "      <td>1</td>\n",
       "      <td>at_home</td>\n",
       "      <td>other</td>\n",
       "      <td>...</td>\n",
       "      <td>5</td>\n",
       "      <td>3</td>\n",
       "      <td>3</td>\n",
       "      <td>1</td>\n",
       "      <td>1</td>\n",
       "      <td>3</td>\n",
       "      <td>4</td>\n",
       "      <td>5</td>\n",
       "      <td>5</td>\n",
       "      <td>6</td>\n",
       "    </tr>\n",
       "    <tr>\n",
       "      <th>2</th>\n",
       "      <td>GP</td>\n",
       "      <td>F</td>\n",
       "      <td>15</td>\n",
       "      <td>U</td>\n",
       "      <td>LE3</td>\n",
       "      <td>T</td>\n",
       "      <td>1</td>\n",
       "      <td>1</td>\n",
       "      <td>at_home</td>\n",
       "      <td>other</td>\n",
       "      <td>...</td>\n",
       "      <td>4</td>\n",
       "      <td>3</td>\n",
       "      <td>2</td>\n",
       "      <td>2</td>\n",
       "      <td>3</td>\n",
       "      <td>3</td>\n",
       "      <td>10</td>\n",
       "      <td>7</td>\n",
       "      <td>8</td>\n",
       "      <td>10</td>\n",
       "    </tr>\n",
       "    <tr>\n",
       "      <th>3</th>\n",
       "      <td>GP</td>\n",
       "      <td>F</td>\n",
       "      <td>15</td>\n",
       "      <td>U</td>\n",
       "      <td>GT3</td>\n",
       "      <td>T</td>\n",
       "      <td>4</td>\n",
       "      <td>2</td>\n",
       "      <td>health</td>\n",
       "      <td>services</td>\n",
       "      <td>...</td>\n",
       "      <td>3</td>\n",
       "      <td>2</td>\n",
       "      <td>2</td>\n",
       "      <td>1</td>\n",
       "      <td>1</td>\n",
       "      <td>5</td>\n",
       "      <td>2</td>\n",
       "      <td>15</td>\n",
       "      <td>14</td>\n",
       "      <td>15</td>\n",
       "    </tr>\n",
       "    <tr>\n",
       "      <th>4</th>\n",
       "      <td>GP</td>\n",
       "      <td>F</td>\n",
       "      <td>16</td>\n",
       "      <td>U</td>\n",
       "      <td>GT3</td>\n",
       "      <td>T</td>\n",
       "      <td>3</td>\n",
       "      <td>3</td>\n",
       "      <td>other</td>\n",
       "      <td>other</td>\n",
       "      <td>...</td>\n",
       "      <td>4</td>\n",
       "      <td>3</td>\n",
       "      <td>2</td>\n",
       "      <td>1</td>\n",
       "      <td>2</td>\n",
       "      <td>5</td>\n",
       "      <td>4</td>\n",
       "      <td>6</td>\n",
       "      <td>10</td>\n",
       "      <td>10</td>\n",
       "    </tr>\n",
       "  </tbody>\n",
       "</table>\n",
       "<p>5 rows × 33 columns</p>\n",
       "</div>"
      ],
      "text/plain": [
       "  school sex  age address famsize Pstatus  Medu  Fedu     Mjob      Fjob  ...  \\\n",
       "0     GP   F   18       U     GT3       A     4     4  at_home   teacher  ...   \n",
       "1     GP   F   17       U     GT3       T     1     1  at_home     other  ...   \n",
       "2     GP   F   15       U     LE3       T     1     1  at_home     other  ...   \n",
       "3     GP   F   15       U     GT3       T     4     2   health  services  ...   \n",
       "4     GP   F   16       U     GT3       T     3     3    other     other  ...   \n",
       "\n",
       "  famrel freetime  goout  Dalc  Walc health absences  G1  G2  G3  \n",
       "0      4        3      4     1     1      3        6   5   6   6  \n",
       "1      5        3      3     1     1      3        4   5   5   6  \n",
       "2      4        3      2     2     3      3       10   7   8  10  \n",
       "3      3        2      2     1     1      5        2  15  14  15  \n",
       "4      4        3      2     1     2      5        4   6  10  10  \n",
       "\n",
       "[5 rows x 33 columns]"
      ]
     },
     "execution_count": 4,
     "metadata": {},
     "output_type": "execute_result"
    }
   ],
   "source": [
    "data.head()\n"
   ]
  },
  {
   "cell_type": "markdown",
   "id": "2188c18d",
   "metadata": {
    "ExecuteTime": {
     "end_time": "2023-10-01T16:52:17.148470Z",
     "start_time": "2023-10-01T16:52:17.124016Z"
    }
   },
   "source": [
    "Sperating target variables"
   ]
  },
  {
   "cell_type": "code",
   "execution_count": 5,
   "id": "a6ed16ce",
   "metadata": {
    "ExecuteTime": {
     "end_time": "2023-10-01T17:47:54.603805Z",
     "start_time": "2023-10-01T17:47:54.593034Z"
    }
   },
   "outputs": [],
   "source": [
    "X = data[['G1', 'G2']]  #First Model\n",
    "x=data.drop('G3',axis=1) #Second Model:x to check how the model works with other features\n",
    "x=pd.get_dummies(x)#One Hot encoding for the categorical variables\n",
    "y=data['G3']"
   ]
  },
  {
   "cell_type": "code",
   "execution_count": 6,
   "id": "b81a55ec",
   "metadata": {
    "ExecuteTime": {
     "end_time": "2023-10-01T17:47:54.613540Z",
     "start_time": "2023-10-01T17:47:54.603805Z"
    }
   },
   "outputs": [
    {
     "name": "stdout",
     "output_type": "stream",
     "text": [
      "395\n",
      "395\n"
     ]
    }
   ],
   "source": [
    "print(len(y))\n",
    "print(len(X))"
   ]
  },
  {
   "cell_type": "markdown",
   "id": "958462b3",
   "metadata": {},
   "source": [
    "Now we split the datset using train_test_split from the scikit learn library"
   ]
  },
  {
   "cell_type": "code",
   "execution_count": 7,
   "id": "37de8d61",
   "metadata": {
    "ExecuteTime": {
     "end_time": "2023-10-01T17:47:54.620829Z",
     "start_time": "2023-10-01T17:47:54.614044Z"
    }
   },
   "outputs": [],
   "source": [
    "X_train,X_test,y_train,y_test=train_test_split(X,y,test_size=0.2,random_state=RANDOM_STATE)"
   ]
  },
  {
   "cell_type": "code",
   "execution_count": 8,
   "id": "64d7dc4a",
   "metadata": {
    "ExecuteTime": {
     "end_time": "2023-10-01T17:47:54.635722Z",
     "start_time": "2023-10-01T17:47:54.620829Z"
    }
   },
   "outputs": [
    {
     "name": "stdout",
     "output_type": "stream",
     "text": [
      "316\n",
      "316\n"
     ]
    }
   ],
   "source": [
    "print(len(y_train))\n",
    "print(len(X_train))\n",
    "#print(data.dtypes)"
   ]
  },
  {
   "cell_type": "markdown",
   "id": "740388e4",
   "metadata": {},
   "source": [
    "Now we use our linear regression model:"
   ]
  },
  {
   "cell_type": "code",
   "execution_count": 9,
   "id": "42fb5fb7",
   "metadata": {
    "ExecuteTime": {
     "end_time": "2023-10-01T17:47:54.655456Z",
     "start_time": "2023-10-01T17:47:54.636767Z"
    }
   },
   "outputs": [
    {
     "data": {
      "text/html": [
       "<style>#sk-container-id-1 {color: black;background-color: white;}#sk-container-id-1 pre{padding: 0;}#sk-container-id-1 div.sk-toggleable {background-color: white;}#sk-container-id-1 label.sk-toggleable__label {cursor: pointer;display: block;width: 100%;margin-bottom: 0;padding: 0.3em;box-sizing: border-box;text-align: center;}#sk-container-id-1 label.sk-toggleable__label-arrow:before {content: \"▸\";float: left;margin-right: 0.25em;color: #696969;}#sk-container-id-1 label.sk-toggleable__label-arrow:hover:before {color: black;}#sk-container-id-1 div.sk-estimator:hover label.sk-toggleable__label-arrow:before {color: black;}#sk-container-id-1 div.sk-toggleable__content {max-height: 0;max-width: 0;overflow: hidden;text-align: left;background-color: #f0f8ff;}#sk-container-id-1 div.sk-toggleable__content pre {margin: 0.2em;color: black;border-radius: 0.25em;background-color: #f0f8ff;}#sk-container-id-1 input.sk-toggleable__control:checked~div.sk-toggleable__content {max-height: 200px;max-width: 100%;overflow: auto;}#sk-container-id-1 input.sk-toggleable__control:checked~label.sk-toggleable__label-arrow:before {content: \"▾\";}#sk-container-id-1 div.sk-estimator input.sk-toggleable__control:checked~label.sk-toggleable__label {background-color: #d4ebff;}#sk-container-id-1 div.sk-label input.sk-toggleable__control:checked~label.sk-toggleable__label {background-color: #d4ebff;}#sk-container-id-1 input.sk-hidden--visually {border: 0;clip: rect(1px 1px 1px 1px);clip: rect(1px, 1px, 1px, 1px);height: 1px;margin: -1px;overflow: hidden;padding: 0;position: absolute;width: 1px;}#sk-container-id-1 div.sk-estimator {font-family: monospace;background-color: #f0f8ff;border: 1px dotted black;border-radius: 0.25em;box-sizing: border-box;margin-bottom: 0.5em;}#sk-container-id-1 div.sk-estimator:hover {background-color: #d4ebff;}#sk-container-id-1 div.sk-parallel-item::after {content: \"\";width: 100%;border-bottom: 1px solid gray;flex-grow: 1;}#sk-container-id-1 div.sk-label:hover label.sk-toggleable__label {background-color: #d4ebff;}#sk-container-id-1 div.sk-serial::before {content: \"\";position: absolute;border-left: 1px solid gray;box-sizing: border-box;top: 0;bottom: 0;left: 50%;z-index: 0;}#sk-container-id-1 div.sk-serial {display: flex;flex-direction: column;align-items: center;background-color: white;padding-right: 0.2em;padding-left: 0.2em;position: relative;}#sk-container-id-1 div.sk-item {position: relative;z-index: 1;}#sk-container-id-1 div.sk-parallel {display: flex;align-items: stretch;justify-content: center;background-color: white;position: relative;}#sk-container-id-1 div.sk-item::before, #sk-container-id-1 div.sk-parallel-item::before {content: \"\";position: absolute;border-left: 1px solid gray;box-sizing: border-box;top: 0;bottom: 0;left: 50%;z-index: -1;}#sk-container-id-1 div.sk-parallel-item {display: flex;flex-direction: column;z-index: 1;position: relative;background-color: white;}#sk-container-id-1 div.sk-parallel-item:first-child::after {align-self: flex-end;width: 50%;}#sk-container-id-1 div.sk-parallel-item:last-child::after {align-self: flex-start;width: 50%;}#sk-container-id-1 div.sk-parallel-item:only-child::after {width: 0;}#sk-container-id-1 div.sk-dashed-wrapped {border: 1px dashed gray;margin: 0 0.4em 0.5em 0.4em;box-sizing: border-box;padding-bottom: 0.4em;background-color: white;}#sk-container-id-1 div.sk-label label {font-family: monospace;font-weight: bold;display: inline-block;line-height: 1.2em;}#sk-container-id-1 div.sk-label-container {text-align: center;}#sk-container-id-1 div.sk-container {/* jupyter's `normalize.less` sets `[hidden] { display: none; }` but bootstrap.min.css set `[hidden] { display: none !important; }` so we also need the `!important` here to be able to override the default hidden behavior on the sphinx rendered scikit-learn.org. See: https://github.com/scikit-learn/scikit-learn/issues/21755 */display: inline-block !important;position: relative;}#sk-container-id-1 div.sk-text-repr-fallback {display: none;}</style><div id=\"sk-container-id-1\" class=\"sk-top-container\"><div class=\"sk-text-repr-fallback\"><pre>LinearRegression()</pre><b>In a Jupyter environment, please rerun this cell to show the HTML representation or trust the notebook. <br />On GitHub, the HTML representation is unable to render, please try loading this page with nbviewer.org.</b></div><div class=\"sk-container\" hidden><div class=\"sk-item\"><div class=\"sk-estimator sk-toggleable\"><input class=\"sk-toggleable__control sk-hidden--visually\" id=\"sk-estimator-id-1\" type=\"checkbox\" checked><label for=\"sk-estimator-id-1\" class=\"sk-toggleable__label sk-toggleable__label-arrow\">LinearRegression</label><div class=\"sk-toggleable__content\"><pre>LinearRegression()</pre></div></div></div></div></div>"
      ],
      "text/plain": [
       "LinearRegression()"
      ]
     },
     "execution_count": 9,
     "metadata": {},
     "output_type": "execute_result"
    }
   ],
   "source": [
    "model=LinearRegression()\n",
    "model.fit(X_train,y_train) #Model training"
   ]
  },
  {
   "cell_type": "code",
   "execution_count": 10,
   "id": "ae275bbd",
   "metadata": {
    "ExecuteTime": {
     "end_time": "2023-10-01T17:47:54.662535Z",
     "start_time": "2023-10-01T17:47:54.655456Z"
    }
   },
   "outputs": [],
   "source": [
    "y_pred=model.predict(X_test)#Predictions of our models for the given test set X_test"
   ]
  },
  {
   "cell_type": "code",
   "execution_count": 11,
   "id": "f4a91ded",
   "metadata": {
    "ExecuteTime": {
     "end_time": "2023-10-01T17:47:54.672933Z",
     "start_time": "2023-10-01T17:47:54.664111Z"
    }
   },
   "outputs": [
    {
     "name": "stdout",
     "output_type": "stream",
     "text": [
      "[15.13294589 12.25728473 15.4971338  13.0337445   3.31419729  6.96631821\n",
      " 11.89309682  6.3719524  10.9345431  10.9345431  11.89309682 14.58666402\n",
      "  8.65324775 13.99229822  5.04921077  8.28905984 12.25728473 11.89309682\n",
      " 11.71100287 11.71100287 17.41424124 19.69553659 15.13294589 14.95085193\n",
      "  6.3719524  10.38826123 14.53858008 17.5963352  13.99229822 15.13294589\n",
      "  8.28905984 14.17439217 16.45568752 15.13294589  7.69469404 12.85165054\n",
      "  9.0655196  14.17439217  7.92487193  6.18985845 12.07519078  8.65324775\n",
      " 13.81020426 10.20616728 15.31503985  9.24761356  6.55404636  6.18985845\n",
      "  7.51260008  9.79389543 16.45568752 11.11663706 13.0337445   9.79389543\n",
      " 15.13294589 11.89309682 10.38826123 10.75244915  6.00776449  9.0655196\n",
      " 18.37279496  7.33050612  9.61180147  8.10696588  8.28905984 12.62147265\n",
      "  9.24761356 16.27359356 -1.06629945  8.88342565 15.4971338  11.89309682\n",
      "  9.24761356 14.95085193  9.97598938 14.35648613 17.41424124 14.95085193\n",
      " 12.85165054]\n"
     ]
    }
   ],
   "source": [
    "y_pred_arr=np.array(y_pred)\n",
    "print(y_pred_arr)#Array of predictions by our model for test set X_test"
   ]
  },
  {
   "cell_type": "code",
   "execution_count": 12,
   "id": "61b325e3",
   "metadata": {
    "ExecuteTime": {
     "end_time": "2023-10-01T17:47:54.679756Z",
     "start_time": "2023-10-01T17:47:54.673941Z"
    }
   },
   "outputs": [
    {
     "name": "stdout",
     "output_type": "stream",
     "text": [
      "[16 12 16 13  0  8 11  8 11 11 11 15  0 15  8 10 13 12 11 13 18 19 16 15\n",
      "  6 12 15 17 14 15 10 14 16 16  9 12 11 13  8  0 12  0 15 11 14 11  6  6\n",
      "  8 10 15 11 14 11 15 11 11 10  0 10 18  9  0  8  8 13 12 15  0 10 16 12\n",
      " 10 15 11 14 17 15 13]\n"
     ]
    }
   ],
   "source": [
    "y_arr=np.array(y_test)\n",
    "print(y_arr)#Corresponding values for X_test"
   ]
  },
  {
   "cell_type": "markdown",
   "id": "e8265a51",
   "metadata": {},
   "source": [
    "Now we check the accuracy of the prediction"
   ]
  },
  {
   "cell_type": "code",
   "execution_count": 13,
   "id": "f13de8ce",
   "metadata": {
    "ExecuteTime": {
     "end_time": "2023-10-01T17:47:54.689418Z",
     "start_time": "2023-10-01T17:47:54.679756Z"
    }
   },
   "outputs": [],
   "source": [
    "error=mse(y_pred,y_test)\n",
    "r2 = r2_score(y_test, y_pred)"
   ]
  },
  {
   "cell_type": "code",
   "execution_count": 14,
   "id": "59683bb5",
   "metadata": {
    "ExecuteTime": {
     "end_time": "2023-10-01T17:47:54.696384Z",
     "start_time": "2023-10-01T17:47:54.689418Z"
    }
   },
   "outputs": [
    {
     "name": "stdout",
     "output_type": "stream",
     "text": [
      "The mean square error is:5.030797956905453\n",
      "The r2_score is :0.7564597420955094\n"
     ]
    }
   ],
   "source": [
    "print(f\"The mean square error is:{error}\")\n",
    "print(f\"The r2_score is :{r2}\")"
   ]
  },
  {
   "cell_type": "code",
   "execution_count": 15,
   "id": "61aa1529",
   "metadata": {
    "ExecuteTime": {
     "end_time": "2023-10-01T17:47:54.717924Z",
     "start_time": "2023-10-01T17:47:54.696384Z"
    }
   },
   "outputs": [
    {
     "data": {
      "text/html": [
       "<style>#sk-container-id-2 {color: black;background-color: white;}#sk-container-id-2 pre{padding: 0;}#sk-container-id-2 div.sk-toggleable {background-color: white;}#sk-container-id-2 label.sk-toggleable__label {cursor: pointer;display: block;width: 100%;margin-bottom: 0;padding: 0.3em;box-sizing: border-box;text-align: center;}#sk-container-id-2 label.sk-toggleable__label-arrow:before {content: \"▸\";float: left;margin-right: 0.25em;color: #696969;}#sk-container-id-2 label.sk-toggleable__label-arrow:hover:before {color: black;}#sk-container-id-2 div.sk-estimator:hover label.sk-toggleable__label-arrow:before {color: black;}#sk-container-id-2 div.sk-toggleable__content {max-height: 0;max-width: 0;overflow: hidden;text-align: left;background-color: #f0f8ff;}#sk-container-id-2 div.sk-toggleable__content pre {margin: 0.2em;color: black;border-radius: 0.25em;background-color: #f0f8ff;}#sk-container-id-2 input.sk-toggleable__control:checked~div.sk-toggleable__content {max-height: 200px;max-width: 100%;overflow: auto;}#sk-container-id-2 input.sk-toggleable__control:checked~label.sk-toggleable__label-arrow:before {content: \"▾\";}#sk-container-id-2 div.sk-estimator input.sk-toggleable__control:checked~label.sk-toggleable__label {background-color: #d4ebff;}#sk-container-id-2 div.sk-label input.sk-toggleable__control:checked~label.sk-toggleable__label {background-color: #d4ebff;}#sk-container-id-2 input.sk-hidden--visually {border: 0;clip: rect(1px 1px 1px 1px);clip: rect(1px, 1px, 1px, 1px);height: 1px;margin: -1px;overflow: hidden;padding: 0;position: absolute;width: 1px;}#sk-container-id-2 div.sk-estimator {font-family: monospace;background-color: #f0f8ff;border: 1px dotted black;border-radius: 0.25em;box-sizing: border-box;margin-bottom: 0.5em;}#sk-container-id-2 div.sk-estimator:hover {background-color: #d4ebff;}#sk-container-id-2 div.sk-parallel-item::after {content: \"\";width: 100%;border-bottom: 1px solid gray;flex-grow: 1;}#sk-container-id-2 div.sk-label:hover label.sk-toggleable__label {background-color: #d4ebff;}#sk-container-id-2 div.sk-serial::before {content: \"\";position: absolute;border-left: 1px solid gray;box-sizing: border-box;top: 0;bottom: 0;left: 50%;z-index: 0;}#sk-container-id-2 div.sk-serial {display: flex;flex-direction: column;align-items: center;background-color: white;padding-right: 0.2em;padding-left: 0.2em;position: relative;}#sk-container-id-2 div.sk-item {position: relative;z-index: 1;}#sk-container-id-2 div.sk-parallel {display: flex;align-items: stretch;justify-content: center;background-color: white;position: relative;}#sk-container-id-2 div.sk-item::before, #sk-container-id-2 div.sk-parallel-item::before {content: \"\";position: absolute;border-left: 1px solid gray;box-sizing: border-box;top: 0;bottom: 0;left: 50%;z-index: -1;}#sk-container-id-2 div.sk-parallel-item {display: flex;flex-direction: column;z-index: 1;position: relative;background-color: white;}#sk-container-id-2 div.sk-parallel-item:first-child::after {align-self: flex-end;width: 50%;}#sk-container-id-2 div.sk-parallel-item:last-child::after {align-self: flex-start;width: 50%;}#sk-container-id-2 div.sk-parallel-item:only-child::after {width: 0;}#sk-container-id-2 div.sk-dashed-wrapped {border: 1px dashed gray;margin: 0 0.4em 0.5em 0.4em;box-sizing: border-box;padding-bottom: 0.4em;background-color: white;}#sk-container-id-2 div.sk-label label {font-family: monospace;font-weight: bold;display: inline-block;line-height: 1.2em;}#sk-container-id-2 div.sk-label-container {text-align: center;}#sk-container-id-2 div.sk-container {/* jupyter's `normalize.less` sets `[hidden] { display: none; }` but bootstrap.min.css set `[hidden] { display: none !important; }` so we also need the `!important` here to be able to override the default hidden behavior on the sphinx rendered scikit-learn.org. See: https://github.com/scikit-learn/scikit-learn/issues/21755 */display: inline-block !important;position: relative;}#sk-container-id-2 div.sk-text-repr-fallback {display: none;}</style><div id=\"sk-container-id-2\" class=\"sk-top-container\"><div class=\"sk-text-repr-fallback\"><pre>LinearRegression()</pre><b>In a Jupyter environment, please rerun this cell to show the HTML representation or trust the notebook. <br />On GitHub, the HTML representation is unable to render, please try loading this page with nbviewer.org.</b></div><div class=\"sk-container\" hidden><div class=\"sk-item\"><div class=\"sk-estimator sk-toggleable\"><input class=\"sk-toggleable__control sk-hidden--visually\" id=\"sk-estimator-id-2\" type=\"checkbox\" checked><label for=\"sk-estimator-id-2\" class=\"sk-toggleable__label sk-toggleable__label-arrow\">LinearRegression</label><div class=\"sk-toggleable__content\"><pre>LinearRegression()</pre></div></div></div></div></div>"
      ],
      "text/plain": [
       "LinearRegression()"
      ]
     },
     "execution_count": 15,
     "metadata": {},
     "output_type": "execute_result"
    }
   ],
   "source": [
    "#Now using x after applying one hot encoding and seeing how our model works\n",
    "x_train,x_test,y_train,y_test=train_test_split(x,y,test_size=0.2,random_state=RANDOM_STATE)\n",
    "model2=LinearRegression()\n",
    "model2.fit(x_train,y_train)#Training of second model"
   ]
  },
  {
   "cell_type": "code",
   "execution_count": 16,
   "id": "695ab33d",
   "metadata": {
    "ExecuteTime": {
     "end_time": "2023-10-01T17:47:54.726354Z",
     "start_time": "2023-10-01T17:47:54.719375Z"
    }
   },
   "outputs": [
    {
     "name": "stdout",
     "output_type": "stream",
     "text": [
      "[13.70025635 11.46670532 15.51589966 13.71377563  2.53378296  6.99563599\n",
      " 11.77664185  5.98352051 11.09664917 11.1506958  12.22622681 14.70828247\n",
      "  6.76782227 14.26242065  5.29959106  8.03393555 12.30526733 12.00015259\n",
      " 11.03735352 11.30731201 17.75680542 20.22839355 15.10397339 15.48171997\n",
      "  6.82443237 10.51348877 15.40591431 18.13748169 14.91174316 13.21176147\n",
      "  8.15927124 13.89749146 17.99490356 15.3430481   8.10195923 12.57546997\n",
      "  8.18881226 13.49331665  6.84176636  6.43511963 12.34069824  8.13034058\n",
      " 13.69360352 10.24325562 16.30609131  8.98556519  7.30615234  7.07168579\n",
      "  7.69689941 10.58456421 15.78775024 11.71118164 11.91845703 10.72338867\n",
      " 15.55654907 12.03741455  9.8359375  10.28079224  6.24395752  8.16616821\n",
      " 18.83435059  6.4883728   8.58670044  7.54992676  8.89025879 12.34991455\n",
      "  9.24230957 16.01953125 -2.19467163  9.07299805 13.81314087 12.51849365\n",
      " 10.31912231 15.77008057  9.70159912 13.91949463 17.21786499 14.22396851\n",
      " 13.32598877]\n"
     ]
    }
   ],
   "source": [
    "y_pred2=model2.predict(x_test)\n",
    "y_pred2_arr=np.array(y_pred2)\n",
    "print(y_pred2_arr)"
   ]
  },
  {
   "cell_type": "code",
   "execution_count": 17,
   "id": "e6c11dda",
   "metadata": {
    "ExecuteTime": {
     "end_time": "2023-10-01T17:47:54.737529Z",
     "start_time": "2023-10-01T17:47:54.727612Z"
    }
   },
   "outputs": [],
   "source": [
    "error2=mse(y_test,y_pred2)\n",
    "r22 = r2_score(y_test, y_pred2)"
   ]
  },
  {
   "cell_type": "code",
   "execution_count": 18,
   "id": "14eaa07e",
   "metadata": {
    "ExecuteTime": {
     "end_time": "2023-10-01T17:47:54.746604Z",
     "start_time": "2023-10-01T17:47:54.737529Z"
    }
   },
   "outputs": [
    {
     "name": "stdout",
     "output_type": "stream",
     "text": [
      "The mean square error is:4.9145831284290065\n",
      "The r2_score is :0.7620856864371283\n"
     ]
    }
   ],
   "source": [
    "print(f\"The mean square error is:{error2}\")\n",
    "print(f\"The r2_score is :{r22}\")"
   ]
  },
  {
   "cell_type": "code",
   "execution_count": 19,
   "id": "823ef1d2",
   "metadata": {
    "ExecuteTime": {
     "end_time": "2023-10-01T17:47:54.751250Z",
     "start_time": "2023-10-01T17:47:54.746604Z"
    }
   },
   "outputs": [
    {
     "name": "stdout",
     "output_type": "stream",
     "text": [
      "The mean squared error with first model:5.030797956905453\n",
      "The mean squared error with second model:4.9145831284290065\n"
     ]
    }
   ],
   "source": [
    "print(f\"The mean squared error with first model:{error}\")\n",
    "print(f\"The mean squared error with second model:{error2}\")"
   ]
  },
  {
   "cell_type": "markdown",
   "id": "46c56338",
   "metadata": {},
   "source": [
    "Plotting our data:\n",
    "Model 1:X\n",
    "We use matplotlib #Seaborn"
   ]
  },
  {
   "cell_type": "code",
   "execution_count": 20,
   "id": "4c05b43b",
   "metadata": {
    "ExecuteTime": {
     "end_time": "2023-10-01T17:47:54.842977Z",
     "start_time": "2023-10-01T17:47:54.752252Z"
    }
   },
   "outputs": [
    {
     "data": {
      "image/png": "[encoded data removed]",
      "text/plain": [
       "<Figure size 640x480 with 1 Axes>"
      ]
     },
     "metadata": {},
     "output_type": "display_data"
    }
   ],
   "source": [
    "plt.scatter(y_test, y_pred)\n",
    "plt.xlabel(\"Actual Final Grade (G3)\")\n",
    "plt.ylabel(\"Predicted Final Grade (G3)\")\n",
    "plt.title(\"Actual vs. Predicted Final Grades\")\n",
    "plt.show()"
   ]
  },
  {
   "cell_type": "code",
   "execution_count": 21,
   "id": "11d7ff1f",
   "metadata": {
    "ExecuteTime": {
     "end_time": "2023-10-01T17:47:54.922620Z",
     "start_time": "2023-10-01T17:47:54.844225Z"
    }
   },
   "outputs": [
    {
     "data": {
      "image/png": "[encoded data removed]",
      "text/plain": [
       "<Figure size 640x480 with 1 Axes>"
      ]
     },
     "metadata": {},
     "output_type": "display_data"
    }
   ],
   "source": [
    "sns.scatterplot(x=y_test, y=y_pred2,)\n",
    "plt.xlabel(\"Actual Final Grade (G3)\")\n",
    "plt.ylabel(\"Predicted Final Grade (G3)\")\n",
    "plt.title(\"Actual vs. Predicted Final Grades\")\n",
    "plt.show()"
   ]
  },
  {
   "cell_type": "code",
   "execution_count": null,
   "id": "ee7e0609",
   "metadata": {},
   "outputs": [],
   "source": []
  }
 ],
 "metadata": {
  "kernelspec": {
   "display_name": "Python 3 (ipykernel)",
   "language": "python",
   "name": "python3"
  },
  "language_info": {
   "codemirror_mode": {
    "name": "ipython",
    "version": 3
   },
   "file_extension": ".py",
   "mimetype": "text/x-python",
   "name": "python",
   "nbconvert_exporter": "python",
   "pygments_lexer": "ipython3",
   "version": "3.10.9"
  }
 },
 "nbformat": 4,
 "nbformat_minor": 5
}
